{
 "cells": [
  {
   "cell_type": "markdown",
   "metadata": {},
   "source": [
    "# 2- Data preprocessing e ingeniería de características"
   ]
  },
  {
   "cell_type": "markdown",
   "metadata": {},
   "source": [
    "Ingeniería de características. Ejercicio práctico con los datos de Pokémon:\n",
    "\n",
    "- Handling missing data\n",
    "- Grouping sparse classes\n",
    "- Bin numerical data\n",
    "- Handling outliers\n",
    "- Transform variables"
   ]
  },
  {
   "cell_type": "code",
   "execution_count": 1,
   "metadata": {},
   "outputs": [],
   "source": [
    "import warnings\n",
    "warnings.filterwarnings('ignore')\n",
    "warnings.simplefilter('ignore')\n",
    "import numpy as np\n",
    "import pandas as pd\n",
    "import matplotlib.pyplot as plt\n",
    "from matplotlib.cbook import boxplot_stats\n",
    "from sklearn.preprocessing import OneHotEncoder, LabelEncoder\n",
    "import seaborn as sns\n",
    "import re\n",
    "\n",
    "# Figures inline and set visualization style\n",
    "%matplotlib inline\n",
    "sns.set()\n",
    "\n",
    "np.set_printoptions(suppress=True)\n",
    "pt = np.get_printoptions()['threshold']"
   ]
  },
  {
   "cell_type": "code",
   "execution_count": 2,
   "metadata": {},
   "outputs": [
    {
     "data": {
      "text/html": [
       "<div>\n",
       "<style scoped>\n",
       "    .dataframe tbody tr th:only-of-type {\n",
       "        vertical-align: middle;\n",
       "    }\n",
       "\n",
       "    .dataframe tbody tr th {\n",
       "        vertical-align: top;\n",
       "    }\n",
       "\n",
       "    .dataframe thead th {\n",
       "        text-align: right;\n",
       "    }\n",
       "</style>\n",
       "<table border=\"1\" class=\"dataframe\">\n",
       "  <thead>\n",
       "    <tr style=\"text-align: right;\">\n",
       "      <th></th>\n",
       "      <th>#</th>\n",
       "      <th>Name</th>\n",
       "      <th>Type 1</th>\n",
       "      <th>Type 2</th>\n",
       "      <th>Total</th>\n",
       "      <th>HP</th>\n",
       "      <th>Attack</th>\n",
       "      <th>Defense</th>\n",
       "      <th>Sp. Atk</th>\n",
       "      <th>Sp. Def</th>\n",
       "      <th>Speed</th>\n",
       "      <th>Generation</th>\n",
       "      <th>Legendary</th>\n",
       "    </tr>\n",
       "  </thead>\n",
       "  <tbody>\n",
       "    <tr>\n",
       "      <td>0</td>\n",
       "      <td>1</td>\n",
       "      <td>Bulbasaur</td>\n",
       "      <td>Grass</td>\n",
       "      <td>Poison</td>\n",
       "      <td>318</td>\n",
       "      <td>45</td>\n",
       "      <td>49</td>\n",
       "      <td>49</td>\n",
       "      <td>65</td>\n",
       "      <td>65</td>\n",
       "      <td>45</td>\n",
       "      <td>1</td>\n",
       "      <td>False</td>\n",
       "    </tr>\n",
       "    <tr>\n",
       "      <td>1</td>\n",
       "      <td>2</td>\n",
       "      <td>Ivysaur</td>\n",
       "      <td>Grass</td>\n",
       "      <td>Poison</td>\n",
       "      <td>405</td>\n",
       "      <td>60</td>\n",
       "      <td>62</td>\n",
       "      <td>63</td>\n",
       "      <td>80</td>\n",
       "      <td>80</td>\n",
       "      <td>60</td>\n",
       "      <td>1</td>\n",
       "      <td>False</td>\n",
       "    </tr>\n",
       "    <tr>\n",
       "      <td>2</td>\n",
       "      <td>3</td>\n",
       "      <td>Venusaur</td>\n",
       "      <td>Grass</td>\n",
       "      <td>Poison</td>\n",
       "      <td>525</td>\n",
       "      <td>80</td>\n",
       "      <td>82</td>\n",
       "      <td>83</td>\n",
       "      <td>100</td>\n",
       "      <td>100</td>\n",
       "      <td>80</td>\n",
       "      <td>1</td>\n",
       "      <td>False</td>\n",
       "    </tr>\n",
       "    <tr>\n",
       "      <td>3</td>\n",
       "      <td>3</td>\n",
       "      <td>VenusaurMega Venusaur</td>\n",
       "      <td>Grass</td>\n",
       "      <td>Poison</td>\n",
       "      <td>625</td>\n",
       "      <td>80</td>\n",
       "      <td>100</td>\n",
       "      <td>123</td>\n",
       "      <td>122</td>\n",
       "      <td>120</td>\n",
       "      <td>80</td>\n",
       "      <td>1</td>\n",
       "      <td>False</td>\n",
       "    </tr>\n",
       "    <tr>\n",
       "      <td>4</td>\n",
       "      <td>4</td>\n",
       "      <td>Charmander</td>\n",
       "      <td>Fire</td>\n",
       "      <td>NaN</td>\n",
       "      <td>309</td>\n",
       "      <td>39</td>\n",
       "      <td>52</td>\n",
       "      <td>43</td>\n",
       "      <td>60</td>\n",
       "      <td>50</td>\n",
       "      <td>65</td>\n",
       "      <td>1</td>\n",
       "      <td>False</td>\n",
       "    </tr>\n",
       "    <tr>\n",
       "      <td>5</td>\n",
       "      <td>5</td>\n",
       "      <td>Charmeleon</td>\n",
       "      <td>Fire</td>\n",
       "      <td>NaN</td>\n",
       "      <td>405</td>\n",
       "      <td>58</td>\n",
       "      <td>64</td>\n",
       "      <td>58</td>\n",
       "      <td>80</td>\n",
       "      <td>65</td>\n",
       "      <td>80</td>\n",
       "      <td>1</td>\n",
       "      <td>False</td>\n",
       "    </tr>\n",
       "    <tr>\n",
       "      <td>6</td>\n",
       "      <td>6</td>\n",
       "      <td>Charizard</td>\n",
       "      <td>Fire</td>\n",
       "      <td>Flying</td>\n",
       "      <td>534</td>\n",
       "      <td>78</td>\n",
       "      <td>84</td>\n",
       "      <td>78</td>\n",
       "      <td>109</td>\n",
       "      <td>85</td>\n",
       "      <td>100</td>\n",
       "      <td>1</td>\n",
       "      <td>False</td>\n",
       "    </tr>\n",
       "    <tr>\n",
       "      <td>7</td>\n",
       "      <td>6</td>\n",
       "      <td>CharizardMega Charizard X</td>\n",
       "      <td>Fire</td>\n",
       "      <td>Dragon</td>\n",
       "      <td>634</td>\n",
       "      <td>78</td>\n",
       "      <td>130</td>\n",
       "      <td>111</td>\n",
       "      <td>130</td>\n",
       "      <td>85</td>\n",
       "      <td>100</td>\n",
       "      <td>1</td>\n",
       "      <td>False</td>\n",
       "    </tr>\n",
       "    <tr>\n",
       "      <td>8</td>\n",
       "      <td>6</td>\n",
       "      <td>CharizardMega Charizard Y</td>\n",
       "      <td>Fire</td>\n",
       "      <td>Flying</td>\n",
       "      <td>634</td>\n",
       "      <td>78</td>\n",
       "      <td>104</td>\n",
       "      <td>78</td>\n",
       "      <td>159</td>\n",
       "      <td>115</td>\n",
       "      <td>100</td>\n",
       "      <td>1</td>\n",
       "      <td>False</td>\n",
       "    </tr>\n",
       "    <tr>\n",
       "      <td>9</td>\n",
       "      <td>7</td>\n",
       "      <td>Squirtle</td>\n",
       "      <td>Water</td>\n",
       "      <td>NaN</td>\n",
       "      <td>314</td>\n",
       "      <td>44</td>\n",
       "      <td>48</td>\n",
       "      <td>65</td>\n",
       "      <td>50</td>\n",
       "      <td>64</td>\n",
       "      <td>43</td>\n",
       "      <td>1</td>\n",
       "      <td>False</td>\n",
       "    </tr>\n",
       "  </tbody>\n",
       "</table>\n",
       "</div>"
      ],
      "text/plain": [
       "   #                       Name Type 1  Type 2  Total  HP  Attack  Defense  \\\n",
       "0  1                  Bulbasaur  Grass  Poison    318  45      49       49   \n",
       "1  2                    Ivysaur  Grass  Poison    405  60      62       63   \n",
       "2  3                   Venusaur  Grass  Poison    525  80      82       83   \n",
       "3  3      VenusaurMega Venusaur  Grass  Poison    625  80     100      123   \n",
       "4  4                 Charmander   Fire     NaN    309  39      52       43   \n",
       "5  5                 Charmeleon   Fire     NaN    405  58      64       58   \n",
       "6  6                  Charizard   Fire  Flying    534  78      84       78   \n",
       "7  6  CharizardMega Charizard X   Fire  Dragon    634  78     130      111   \n",
       "8  6  CharizardMega Charizard Y   Fire  Flying    634  78     104       78   \n",
       "9  7                   Squirtle  Water     NaN    314  44      48       65   \n",
       "\n",
       "   Sp. Atk  Sp. Def  Speed  Generation  Legendary  \n",
       "0       65       65     45           1      False  \n",
       "1       80       80     60           1      False  \n",
       "2      100      100     80           1      False  \n",
       "3      122      120     80           1      False  \n",
       "4       60       50     65           1      False  \n",
       "5       80       65     80           1      False  \n",
       "6      109       85    100           1      False  \n",
       "7      130       85    100           1      False  \n",
       "8      159      115    100           1      False  \n",
       "9       50       64     43           1      False  "
      ]
     },
     "execution_count": 2,
     "metadata": {},
     "output_type": "execute_result"
    }
   ],
   "source": [
    "# cargar los datos\n",
    "df = pd.read_csv('./data/pokemon.csv')\n",
    "# ver los 10 primeros vectores de características\n",
    "df.head(10)"
   ]
  },
  {
   "cell_type": "markdown",
   "metadata": {},
   "source": [
    "### Handling missing data"
   ]
  },
  {
   "cell_type": "code",
   "execution_count": 3,
   "metadata": {},
   "outputs": [
    {
     "data": {
      "text/plain": [
       "array(['Bug', 'Dark', 'Dragon', 'Electric', 'Fairy', 'Fighting', 'Fire',\n",
       "       'Flying', 'Ghost', 'Grass', 'Ground', 'Ice', 'Normal', 'Poison',\n",
       "       'Psychic', 'Rock', 'Steel', 'Water', 'nan'], dtype=object)"
      ]
     },
     "execution_count": 3,
     "metadata": {},
     "output_type": "execute_result"
    }
   ],
   "source": [
    "# ver valores únicos que toma la variable 'Type 2'\n",
    "types2 = np.unique(df['Type 2'].astype(str))\n",
    "types2"
   ]
  },
  {
   "cell_type": "code",
   "execution_count": 4,
   "metadata": {},
   "outputs": [
    {
     "name": "stdout",
     "output_type": "stream",
     "text": [
      "<class 'pandas.core.frame.DataFrame'>\n",
      "RangeIndex: 800 entries, 0 to 799\n",
      "Data columns (total 13 columns):\n",
      "#             800 non-null int64\n",
      "Name          800 non-null object\n",
      "Type 1        800 non-null object\n",
      "Type 2        414 non-null object\n",
      "Total         800 non-null int64\n",
      "HP            800 non-null int64\n",
      "Attack        800 non-null int64\n",
      "Defense       800 non-null int64\n",
      "Sp. Atk       800 non-null int64\n",
      "Sp. Def       800 non-null int64\n",
      "Speed         800 non-null int64\n",
      "Generation    800 non-null int64\n",
      "Legendary     800 non-null bool\n",
      "dtypes: bool(1), int64(9), object(3)\n",
      "memory usage: 75.9+ KB\n"
     ]
    }
   ],
   "source": [
    "# cuántos valores nulos tiene la variable 'Type 2' en relación al resto de variables?\n",
    "df.info()"
   ]
  },
  {
   "cell_type": "code",
   "execution_count": 5,
   "metadata": {},
   "outputs": [
    {
     "data": {
      "text/plain": [
       "[Text(0, 0, 'Poison'),\n",
       " Text(0, 0, 'Flying'),\n",
       " Text(0, 0, 'Dragon'),\n",
       " Text(0, 0, 'Ground'),\n",
       " Text(0, 0, 'Fairy'),\n",
       " Text(0, 0, 'Grass'),\n",
       " Text(0, 0, 'Fighting'),\n",
       " Text(0, 0, 'Psychic'),\n",
       " Text(0, 0, 'Steel'),\n",
       " Text(0, 0, 'Ice'),\n",
       " Text(0, 0, 'Rock'),\n",
       " Text(0, 0, 'Dark'),\n",
       " Text(0, 0, 'Water'),\n",
       " Text(0, 0, 'Electric'),\n",
       " Text(0, 0, 'Fire'),\n",
       " Text(0, 0, 'Ghost'),\n",
       " Text(0, 0, 'Bug'),\n",
       " Text(0, 0, 'Normal')]"
      ]
     },
     "execution_count": 5,
     "metadata": {},
     "output_type": "execute_result"
    },
    {
     "data": {
      "image/png": "[encoded data removed]",
      "text/plain": [
       "<Figure size 432x288 with 1 Axes>"
      ]
     },
     "metadata": {
      "needs_background": "light"
     },
     "output_type": "display_data"
    }
   ],
   "source": [
    "# plotear histograma para ver distribución de la variable 'Type 2'\n",
    "ax = sns.countplot(df['Type 2'])\n",
    "ax.set_xticklabels(ax.get_xticklabels(), rotation=90)\n",
    "\n"
   ]
  },
  {
   "cell_type": "code",
   "execution_count": 6,
   "metadata": {},
   "outputs": [
    {
     "name": "stdout",
     "output_type": "stream",
     "text": [
      "<class 'pandas.core.frame.DataFrame'>\n",
      "RangeIndex: 800 entries, 0 to 799\n",
      "Data columns (total 13 columns):\n",
      "#             800 non-null int64\n",
      "Name          800 non-null object\n",
      "Type 1        800 non-null object\n",
      "Type 2        800 non-null object\n",
      "Total         800 non-null int64\n",
      "HP            800 non-null int64\n",
      "Attack        800 non-null int64\n",
      "Defense       800 non-null int64\n",
      "Sp. Atk       800 non-null int64\n",
      "Sp. Def       800 non-null int64\n",
      "Speed         800 non-null int64\n",
      "Generation    800 non-null int64\n",
      "Legendary     800 non-null bool\n",
      "dtypes: bool(1), int64(9), object(3)\n",
      "memory usage: 75.9+ KB\n"
     ]
    }
   ],
   "source": [
    "# rellenar valores nulos de la variable 'Type 2' con 'Unknown'\n",
    "df['Type 2'].fillna('Unknown', inplace=True)\n",
    "# comprobar que efectivamente ya no hay nulos en la matriz de datos\n",
    "df.info()"
   ]
  },
  {
   "cell_type": "code",
   "execution_count": 7,
   "metadata": {},
   "outputs": [
    {
     "data": {
      "text/plain": [
       "[Text(0, 0, 'Poison'),\n",
       " Text(0, 0, 'Unknown'),\n",
       " Text(0, 0, 'Flying'),\n",
       " Text(0, 0, 'Dragon'),\n",
       " Text(0, 0, 'Ground'),\n",
       " Text(0, 0, 'Fairy'),\n",
       " Text(0, 0, 'Grass'),\n",
       " Text(0, 0, 'Fighting'),\n",
       " Text(0, 0, 'Psychic'),\n",
       " Text(0, 0, 'Steel'),\n",
       " Text(0, 0, 'Ice'),\n",
       " Text(0, 0, 'Rock'),\n",
       " Text(0, 0, 'Dark'),\n",
       " Text(0, 0, 'Water'),\n",
       " Text(0, 0, 'Electric'),\n",
       " Text(0, 0, 'Fire'),\n",
       " Text(0, 0, 'Ghost'),\n",
       " Text(0, 0, 'Bug'),\n",
       " Text(0, 0, 'Normal')]"
      ]
     },
     "execution_count": 7,
     "metadata": {},
     "output_type": "execute_result"
    },
    {
     "data": {
      "image/png": "[encoded data removed]",
      "text/plain": [
       "<Figure size 432x288 with 1 Axes>"
      ]
     },
     "metadata": {
      "needs_background": "light"
     },
     "output_type": "display_data"
    }
   ],
   "source": [
    "# plotear histograma para ver nuevamente la distribución de la variable 'Type 2'\n",
    "ax = sns.countplot(df['Type 2'])\n",
    "ax.set_xticklabels(ax.get_xticklabels(), rotation=90)"
   ]
  },
  {
   "cell_type": "markdown",
   "metadata": {},
   "source": [
    "### Grouping sparse classes"
   ]
  },
  {
   "cell_type": "code",
   "execution_count": 8,
   "metadata": {},
   "outputs": [
    {
     "data": {
      "text/html": [
       "<div>\n",
       "<style scoped>\n",
       "    .dataframe tbody tr th:only-of-type {\n",
       "        vertical-align: middle;\n",
       "    }\n",
       "\n",
       "    .dataframe tbody tr th {\n",
       "        vertical-align: top;\n",
       "    }\n",
       "\n",
       "    .dataframe thead th {\n",
       "        text-align: right;\n",
       "    }\n",
       "</style>\n",
       "<table border=\"1\" class=\"dataframe\">\n",
       "  <thead>\n",
       "    <tr style=\"text-align: right;\">\n",
       "      <th></th>\n",
       "      <th>Type 1</th>\n",
       "      <th>Type 2</th>\n",
       "      <th>has_2nd_type</th>\n",
       "      <th>Attack</th>\n",
       "      <th>Defense</th>\n",
       "    </tr>\n",
       "  </thead>\n",
       "  <tbody>\n",
       "    <tr>\n",
       "      <td>0</td>\n",
       "      <td>Grass</td>\n",
       "      <td>Poison</td>\n",
       "      <td>Known</td>\n",
       "      <td>49</td>\n",
       "      <td>49</td>\n",
       "    </tr>\n",
       "    <tr>\n",
       "      <td>1</td>\n",
       "      <td>Grass</td>\n",
       "      <td>Poison</td>\n",
       "      <td>Known</td>\n",
       "      <td>62</td>\n",
       "      <td>63</td>\n",
       "    </tr>\n",
       "    <tr>\n",
       "      <td>2</td>\n",
       "      <td>Grass</td>\n",
       "      <td>Poison</td>\n",
       "      <td>Known</td>\n",
       "      <td>82</td>\n",
       "      <td>83</td>\n",
       "    </tr>\n",
       "    <tr>\n",
       "      <td>3</td>\n",
       "      <td>Grass</td>\n",
       "      <td>Poison</td>\n",
       "      <td>Known</td>\n",
       "      <td>100</td>\n",
       "      <td>123</td>\n",
       "    </tr>\n",
       "    <tr>\n",
       "      <td>4</td>\n",
       "      <td>Fire</td>\n",
       "      <td>Unknown</td>\n",
       "      <td>Unknown</td>\n",
       "      <td>52</td>\n",
       "      <td>43</td>\n",
       "    </tr>\n",
       "    <tr>\n",
       "      <td>5</td>\n",
       "      <td>Fire</td>\n",
       "      <td>Unknown</td>\n",
       "      <td>Unknown</td>\n",
       "      <td>64</td>\n",
       "      <td>58</td>\n",
       "    </tr>\n",
       "    <tr>\n",
       "      <td>6</td>\n",
       "      <td>Fire</td>\n",
       "      <td>Flying</td>\n",
       "      <td>Known</td>\n",
       "      <td>84</td>\n",
       "      <td>78</td>\n",
       "    </tr>\n",
       "    <tr>\n",
       "      <td>7</td>\n",
       "      <td>Fire</td>\n",
       "      <td>Dragon</td>\n",
       "      <td>Known</td>\n",
       "      <td>130</td>\n",
       "      <td>111</td>\n",
       "    </tr>\n",
       "    <tr>\n",
       "      <td>8</td>\n",
       "      <td>Fire</td>\n",
       "      <td>Flying</td>\n",
       "      <td>Known</td>\n",
       "      <td>104</td>\n",
       "      <td>78</td>\n",
       "    </tr>\n",
       "    <tr>\n",
       "      <td>9</td>\n",
       "      <td>Water</td>\n",
       "      <td>Unknown</td>\n",
       "      <td>Unknown</td>\n",
       "      <td>48</td>\n",
       "      <td>65</td>\n",
       "    </tr>\n",
       "  </tbody>\n",
       "</table>\n",
       "</div>"
      ],
      "text/plain": [
       "  Type 1   Type 2 has_2nd_type  Attack  Defense\n",
       "0  Grass   Poison        Known      49       49\n",
       "1  Grass   Poison        Known      62       63\n",
       "2  Grass   Poison        Known      82       83\n",
       "3  Grass   Poison        Known     100      123\n",
       "4   Fire  Unknown      Unknown      52       43\n",
       "5   Fire  Unknown      Unknown      64       58\n",
       "6   Fire   Flying        Known      84       78\n",
       "7   Fire   Dragon        Known     130      111\n",
       "8   Fire   Flying        Known     104       78\n",
       "9  Water  Unknown      Unknown      48       65"
      ]
     },
     "execution_count": 8,
     "metadata": {},
     "output_type": "execute_result"
    }
   ],
   "source": [
    "# crear variable 'has_2nd_type' que determine 'Known' o 'Unknown' en función de si 'Type 2' es conocido o no\n",
    "has_2nd_type = np.array(df['Type 2']) \n",
    "has_2nd_type[has_2nd_type != 'Unknown'] = 'Known'\n",
    "df['has_2nd_type'] = has_2nd_type\n",
    "df.head(10)\n",
    "\n",
    "# nos quedamos con las variables ['Type 1', 'Type 2', 'has_2nd_type', 'Attack', 'Defense']\n",
    "df_reduced = df[['Type 1', 'Type 2', 'has_2nd_type', 'Attack', 'Defense']]\n",
    "df_reduced.head(10)"
   ]
  },
  {
   "cell_type": "code",
   "execution_count": 9,
   "metadata": {},
   "outputs": [
    {
     "data": {
      "image/png": "[encoded data removed]",
      "text/plain": [
       "<Figure size 432x288 with 1 Axes>"
      ]
     },
     "metadata": {
      "needs_background": "light"
     },
     "output_type": "display_data"
    }
   ],
   "source": [
    "# plotear histograma para ver la distribución de la variable 'has_2nd_type' que acabamos de crear\n",
    "ax = sns.countplot(df['has_2nd_type'])"
   ]
  },
  {
   "cell_type": "markdown",
   "metadata": {},
   "source": [
    "Tendríamos que ver cómo los datos estarían ahora muy bien balanceados en función de si 'Type 2' es conocido o no"
   ]
  },
  {
   "cell_type": "markdown",
   "metadata": {},
   "source": [
    "### Handling outliers"
   ]
  },
  {
   "cell_type": "code",
   "execution_count": 10,
   "metadata": {},
   "outputs": [
    {
     "name": "stdout",
     "output_type": "stream",
     "text": [
      "Outliers are [190, 185, 180, 180, 180, 170, 170]\n"
     ]
    },
    {
     "data": {
      "image/png": "[encoded data removed]",
      "text/plain": [
       "<Figure size 432x288 with 1 Axes>"
      ]
     },
     "metadata": {
      "needs_background": "light"
     },
     "output_type": "display_data"
    },
    {
     "name": "stdout",
     "output_type": "stream",
     "text": [
      "The upper limit is 190\n",
      "The lower limit is 5\n"
     ]
    }
   ],
   "source": [
    "# chequear el boxplot de valores de la variable 'Atack'\n",
    "ax = sns.boxplot(df['Attack'], showfliers=True) #showfliers en False elimina los outliers\n",
    "outliers = [y for stat in boxplot_stats(df['Attack']) for y in stat['fliers']]\n",
    "print('Outliers are',outliers)\n",
    "plt.show()\n",
    "\n",
    "# calcular los valores umbrales basados en los percentiles\n",
    "upper_limit_attack = max(df['Attack'])\n",
    "print('The upper limit is',upper_limit_attack)\n",
    "lower_limit_attack = min(df['Attack'])\n",
    "print('The lower limit is',lower_limit_attack)"
   ]
  },
  {
   "cell_type": "code",
   "execution_count": 11,
   "metadata": {
    "scrolled": true
   },
   "outputs": [
    {
     "name": "stdout",
     "output_type": "stream",
     "text": [
      "MewtwoMega Mewtwo X\n",
      "HeracrossMega Heracross\n",
      "GroudonPrimal Groudon\n",
      "RayquazaMega Rayquaza\n",
      "DeoxysAttack Forme\n",
      "GarchompMega Garchomp\n",
      "KyuremBlack Kyurem\n"
     ]
    }
   ],
   "source": [
    "# qué Pokémons tendrían unos valores de ataque que se podrían considerar como outliers según los percentiles usados?\n",
    "def return_pokemon (outliers):\n",
    "    total=[]\n",
    "    for i in range (np.size(outliers)):\n",
    "        temp = np.where(df['Attack'] == outliers[i])[0]\n",
    "        for j in range (np.size(temp)):\n",
    "            temp2= temp[j]\n",
    "            total.append(temp2)\n",
    "    unicos=np.unique(total, return_index=False, return_inverse=False, return_counts=False, axis=None)\n",
    "    for i in range(np.size(unicos)):\n",
    "        print(df['Name'][unicos[i]]) \n",
    "\n",
    "return_pokemon(outliers)\n",
    "\n",
    "df_reduced1=df.iloc[np.where(df['Attack']!= np.array(outliers)[0])]"
   ]
  },
  {
   "cell_type": "code",
   "execution_count": 12,
   "metadata": {},
   "outputs": [
    {
     "name": "stdout",
     "output_type": "stream",
     "text": [
      "[190, 185, 180, 180, 180, 170, 170, 190, 185, 180, 180, 180]\n",
      "MewtwoMega Mewtwo X\n",
      "HeracrossMega Heracross\n",
      "GroudonPrimal Groudon\n",
      "RayquazaMega Rayquaza\n",
      "DeoxysAttack Forme\n",
      "GarchompMega Garchomp\n",
      "KyuremBlack Kyurem\n"
     ]
    }
   ],
   "source": [
    "# hacer el mismo ejercicio con la std respecto del valor medio\n",
    "outliers2=[]\n",
    "def detect_outlier(data_1):\n",
    "    \n",
    "    threshold=3\n",
    "    mean_1 = np.mean(data_1)\n",
    "    std_1 =np.std(data_1)\n",
    "    \n",
    "    \n",
    "    for y in data_1:\n",
    "        z_score= (y - mean_1)/std_1 \n",
    "        if np.abs(z_score) > threshold:\n",
    "            outliers.append(y)\n",
    "    return outliers\n",
    "\n",
    "outliers2 = detect_outlier(df['Attack'])\n",
    "print(outliers2)\n",
    "\n",
    "return_pokemon(outliers2)"
   ]
  },
  {
   "cell_type": "code",
   "execution_count": 13,
   "metadata": {},
   "outputs": [
    {
     "name": "stdout",
     "output_type": "stream",
     "text": [
      "The upper limit is 176.31247101760664\n",
      "The lower limit is -18.309971017606642\n"
     ]
    },
    {
     "data": {
      "image/png": "[encoded data removed]",
      "text/plain": [
       "<Figure size 432x288 with 1 Axes>"
      ]
     },
     "metadata": {
      "needs_background": "light"
     },
     "output_type": "display_data"
    }
   ],
   "source": [
    "sns.distplot(df['Attack'])\n",
    "# qué Pokémons tendrían unos valores de ataque que se podrían considerar como outliers según las desviaciones típicas?\n",
    "mean_attack = np.mean(df['Attack'])\n",
    "std_attack = np.std(df['Attack'])\n",
    "# mostrar upper y lower limits según las std elegidas\n",
    "upper = (mean_attack+3*std_attack)\n",
    "lower = (mean_attack-3*std_attack)\n",
    "print(\"The upper limit is\",upper)\n",
    "print(\"The lower limit is\",lower)\n",
    "\n"
   ]
  },
  {
   "cell_type": "code",
   "execution_count": 14,
   "metadata": {},
   "outputs": [
    {
     "name": "stdout",
     "output_type": "stream",
     "text": [
      "[163 232 424 426 429]\n"
     ]
    }
   ],
   "source": [
    "outliers =np.where(df['Attack'] > (mean_attack+3*std_attack)) + np.where(df['Attack'] < (mean_attack-3*std_attack))\n",
    "print(outliers[0])\n",
    "df_reduced2=df.iloc[np.where(df['Attack']!= outliers)[0]]"
   ]
  },
  {
   "cell_type": "code",
   "execution_count": 15,
   "metadata": {},
   "outputs": [
    {
     "name": "stdout",
     "output_type": "stream",
     "text": [
      "<class 'pandas.core.frame.DataFrame'>\n",
      "Int64Index: 799 entries, 0 to 799\n",
      "Data columns (total 14 columns):\n",
      "#               799 non-null int64\n",
      "Name            799 non-null object\n",
      "Type 1          799 non-null object\n",
      "Type 2          799 non-null object\n",
      "Total           799 non-null int64\n",
      "HP              799 non-null int64\n",
      "Attack          799 non-null int64\n",
      "Defense         799 non-null int64\n",
      "Sp. Atk         799 non-null int64\n",
      "Sp. Def         799 non-null int64\n",
      "Speed           799 non-null int64\n",
      "Generation      799 non-null int64\n",
      "Legendary       799 non-null bool\n",
      "has_2nd_type    799 non-null object\n",
      "dtypes: bool(1), int64(9), object(4)\n",
      "memory usage: 88.2+ KB\n"
     ]
    },
    {
     "data": {
      "text/plain": [
       "<matplotlib.axes._subplots.AxesSubplot at 0x21bb7f07f48>"
      ]
     },
     "execution_count": 15,
     "metadata": {},
     "output_type": "execute_result"
    },
    {
     "data": {
      "image/png": "[encoded data removed]",
      "text/plain": [
       "<Figure size 432x288 with 1 Axes>"
      ]
     },
     "metadata": {
      "needs_background": "light"
     },
     "output_type": "display_data"
    }
   ],
   "source": [
    "# elegir uno de los dos métodos para eliminar los outliers > umbral superior\n",
    "df_reduced_normal = df_reduced1\n",
    "df_reduced_normal.info()\n",
    "# plotear distribución en base al método empleado\n",
    "sns.distplot(df_reduced_normal['Attack'])"
   ]
  },
  {
   "cell_type": "markdown",
   "metadata": {},
   "source": [
    "De este modo eliminaremos un porcentaje mínimo de datos (en torno a un 1%-5%) que muestran valores lejos de lo que podríamos considerar como \"normal\" o patrón que queremos modelar"
   ]
  },
  {
   "cell_type": "markdown",
   "metadata": {},
   "source": [
    "### Bin numerical data"
   ]
  },
  {
   "cell_type": "code",
   "execution_count": 16,
   "metadata": {},
   "outputs": [
    {
     "data": {
      "text/html": [
       "<div>\n",
       "<style scoped>\n",
       "    .dataframe tbody tr th:only-of-type {\n",
       "        vertical-align: middle;\n",
       "    }\n",
       "\n",
       "    .dataframe tbody tr th {\n",
       "        vertical-align: top;\n",
       "    }\n",
       "\n",
       "    .dataframe thead th {\n",
       "        text-align: right;\n",
       "    }\n",
       "</style>\n",
       "<table border=\"1\" class=\"dataframe\">\n",
       "  <thead>\n",
       "    <tr style=\"text-align: right;\">\n",
       "      <th></th>\n",
       "      <th>#</th>\n",
       "      <th>Name</th>\n",
       "      <th>Type 1</th>\n",
       "      <th>Type 2</th>\n",
       "      <th>Total</th>\n",
       "      <th>HP</th>\n",
       "      <th>Attack</th>\n",
       "      <th>Defense</th>\n",
       "      <th>Sp. Atk</th>\n",
       "      <th>Sp. Def</th>\n",
       "      <th>Speed</th>\n",
       "      <th>Generation</th>\n",
       "      <th>Legendary</th>\n",
       "      <th>has_2nd_type</th>\n",
       "      <th>CatAttack</th>\n",
       "      <th>CatDefense</th>\n",
       "    </tr>\n",
       "  </thead>\n",
       "  <tbody>\n",
       "    <tr>\n",
       "      <td>0</td>\n",
       "      <td>1</td>\n",
       "      <td>Bulbasaur</td>\n",
       "      <td>Grass</td>\n",
       "      <td>Poison</td>\n",
       "      <td>318</td>\n",
       "      <td>45</td>\n",
       "      <td>49</td>\n",
       "      <td>49</td>\n",
       "      <td>65</td>\n",
       "      <td>65</td>\n",
       "      <td>45</td>\n",
       "      <td>1</td>\n",
       "      <td>False</td>\n",
       "      <td>Known</td>\n",
       "      <td>12.0</td>\n",
       "      <td>12.0</td>\n",
       "    </tr>\n",
       "    <tr>\n",
       "      <td>1</td>\n",
       "      <td>2</td>\n",
       "      <td>Ivysaur</td>\n",
       "      <td>Grass</td>\n",
       "      <td>Poison</td>\n",
       "      <td>405</td>\n",
       "      <td>60</td>\n",
       "      <td>62</td>\n",
       "      <td>63</td>\n",
       "      <td>80</td>\n",
       "      <td>80</td>\n",
       "      <td>60</td>\n",
       "      <td>1</td>\n",
       "      <td>False</td>\n",
       "      <td>Known</td>\n",
       "      <td>15.0</td>\n",
       "      <td>15.0</td>\n",
       "    </tr>\n",
       "    <tr>\n",
       "      <td>2</td>\n",
       "      <td>3</td>\n",
       "      <td>Venusaur</td>\n",
       "      <td>Grass</td>\n",
       "      <td>Poison</td>\n",
       "      <td>525</td>\n",
       "      <td>80</td>\n",
       "      <td>82</td>\n",
       "      <td>83</td>\n",
       "      <td>100</td>\n",
       "      <td>100</td>\n",
       "      <td>80</td>\n",
       "      <td>1</td>\n",
       "      <td>False</td>\n",
       "      <td>Known</td>\n",
       "      <td>20.0</td>\n",
       "      <td>20.0</td>\n",
       "    </tr>\n",
       "    <tr>\n",
       "      <td>3</td>\n",
       "      <td>3</td>\n",
       "      <td>VenusaurMega Venusaur</td>\n",
       "      <td>Grass</td>\n",
       "      <td>Poison</td>\n",
       "      <td>625</td>\n",
       "      <td>80</td>\n",
       "      <td>100</td>\n",
       "      <td>123</td>\n",
       "      <td>122</td>\n",
       "      <td>120</td>\n",
       "      <td>80</td>\n",
       "      <td>1</td>\n",
       "      <td>False</td>\n",
       "      <td>Known</td>\n",
       "      <td>25.0</td>\n",
       "      <td>30.0</td>\n",
       "    </tr>\n",
       "    <tr>\n",
       "      <td>4</td>\n",
       "      <td>4</td>\n",
       "      <td>Charmander</td>\n",
       "      <td>Fire</td>\n",
       "      <td>Unknown</td>\n",
       "      <td>309</td>\n",
       "      <td>39</td>\n",
       "      <td>52</td>\n",
       "      <td>43</td>\n",
       "      <td>60</td>\n",
       "      <td>50</td>\n",
       "      <td>65</td>\n",
       "      <td>1</td>\n",
       "      <td>False</td>\n",
       "      <td>Unknown</td>\n",
       "      <td>13.0</td>\n",
       "      <td>10.0</td>\n",
       "    </tr>\n",
       "  </tbody>\n",
       "</table>\n",
       "</div>"
      ],
      "text/plain": [
       "   #                   Name Type 1   Type 2  Total  HP  Attack  Defense  \\\n",
       "0  1              Bulbasaur  Grass   Poison    318  45      49       49   \n",
       "1  2                Ivysaur  Grass   Poison    405  60      62       63   \n",
       "2  3               Venusaur  Grass   Poison    525  80      82       83   \n",
       "3  3  VenusaurMega Venusaur  Grass   Poison    625  80     100      123   \n",
       "4  4             Charmander   Fire  Unknown    309  39      52       43   \n",
       "\n",
       "   Sp. Atk  Sp. Def  Speed  Generation  Legendary has_2nd_type  CatAttack  \\\n",
       "0       65       65     45           1      False        Known       12.0   \n",
       "1       80       80     60           1      False        Known       15.0   \n",
       "2      100      100     80           1      False        Known       20.0   \n",
       "3      122      120     80           1      False        Known       25.0   \n",
       "4       60       50     65           1      False      Unknown       13.0   \n",
       "\n",
       "   CatDefense  \n",
       "0        12.0  \n",
       "1        15.0  \n",
       "2        20.0  \n",
       "3        30.0  \n",
       "4        10.0  "
      ]
     },
     "execution_count": 16,
     "metadata": {},
     "output_type": "execute_result"
    }
   ],
   "source": [
    "# crear bins de tamaño 4 para las variables 'Attack' y 'Defense' y asignar los valores a 2 nuevas variables: 'CatAttack' y 'CatDefense'\n",
    "df_reduced_normal['CatAttack'] = np.array(np.floor(np.array(df_reduced_normal['Attack']) / 4.))\n",
    "df_reduced_normal['CatDefense']= np.array(np.floor(np.array(df_reduced_normal['Defense']) / 4.))\n",
    "df_reduced_normal.head()"
   ]
  },
  {
   "cell_type": "code",
   "execution_count": 17,
   "metadata": {},
   "outputs": [
    {
     "data": {
      "text/html": [
       "<div>\n",
       "<style scoped>\n",
       "    .dataframe tbody tr th:only-of-type {\n",
       "        vertical-align: middle;\n",
       "    }\n",
       "\n",
       "    .dataframe tbody tr th {\n",
       "        vertical-align: top;\n",
       "    }\n",
       "\n",
       "    .dataframe thead th {\n",
       "        text-align: right;\n",
       "    }\n",
       "</style>\n",
       "<table border=\"1\" class=\"dataframe\">\n",
       "  <thead>\n",
       "    <tr style=\"text-align: right;\">\n",
       "      <th></th>\n",
       "      <th>Type 1</th>\n",
       "      <th>Type 2</th>\n",
       "      <th>has_2nd_type</th>\n",
       "      <th>CatAttack</th>\n",
       "      <th>CatDefense</th>\n",
       "    </tr>\n",
       "  </thead>\n",
       "  <tbody>\n",
       "    <tr>\n",
       "      <td>0</td>\n",
       "      <td>Grass</td>\n",
       "      <td>Poison</td>\n",
       "      <td>Known</td>\n",
       "      <td>12.0</td>\n",
       "      <td>12.0</td>\n",
       "    </tr>\n",
       "    <tr>\n",
       "      <td>1</td>\n",
       "      <td>Grass</td>\n",
       "      <td>Poison</td>\n",
       "      <td>Known</td>\n",
       "      <td>15.0</td>\n",
       "      <td>15.0</td>\n",
       "    </tr>\n",
       "    <tr>\n",
       "      <td>2</td>\n",
       "      <td>Grass</td>\n",
       "      <td>Poison</td>\n",
       "      <td>Known</td>\n",
       "      <td>20.0</td>\n",
       "      <td>20.0</td>\n",
       "    </tr>\n",
       "    <tr>\n",
       "      <td>3</td>\n",
       "      <td>Grass</td>\n",
       "      <td>Poison</td>\n",
       "      <td>Known</td>\n",
       "      <td>25.0</td>\n",
       "      <td>30.0</td>\n",
       "    </tr>\n",
       "    <tr>\n",
       "      <td>4</td>\n",
       "      <td>Fire</td>\n",
       "      <td>Unknown</td>\n",
       "      <td>Unknown</td>\n",
       "      <td>13.0</td>\n",
       "      <td>10.0</td>\n",
       "    </tr>\n",
       "  </tbody>\n",
       "</table>\n",
       "</div>"
      ],
      "text/plain": [
       "  Type 1   Type 2 has_2nd_type  CatAttack  CatDefense\n",
       "0  Grass   Poison        Known       12.0        12.0\n",
       "1  Grass   Poison        Known       15.0        15.0\n",
       "2  Grass   Poison        Known       20.0        20.0\n",
       "3  Grass   Poison        Known       25.0        30.0\n",
       "4   Fire  Unknown      Unknown       13.0        10.0"
      ]
     },
     "execution_count": 17,
     "metadata": {},
     "output_type": "execute_result"
    }
   ],
   "source": [
    "# eliminar las variables 'Attack' y 'Defense'\n",
    "df_reduced_normal_bins = df_reduced_normal[['Type 1', 'Type 2', 'has_2nd_type','CatAttack','CatDefense']]\n",
    "df_reduced_normal_bins.head()"
   ]
  },
  {
   "cell_type": "markdown",
   "metadata": {},
   "source": [
    "Se debería obtener una categorización de ataque y defensa mucho más reducida y manejable"
   ]
  },
  {
   "cell_type": "markdown",
   "metadata": {},
   "source": [
    "### Transform variables"
   ]
  },
  {
   "cell_type": "code",
   "execution_count": 18,
   "metadata": {},
   "outputs": [
    {
     "data": {
      "text/plain": [
       "{0: 'Bug',\n",
       " 1: 'Dark',\n",
       " 2: 'Dragon',\n",
       " 3: 'Electric',\n",
       " 4: 'Fairy',\n",
       " 5: 'Fighting',\n",
       " 6: 'Fire',\n",
       " 7: 'Flying',\n",
       " 8: 'Ghost',\n",
       " 9: 'Grass',\n",
       " 10: 'Ground',\n",
       " 11: 'Ice',\n",
       " 12: 'Normal',\n",
       " 13: 'Poison',\n",
       " 14: 'Psychic',\n",
       " 15: 'Rock',\n",
       " 16: 'Steel',\n",
       " 17: 'Water'}"
      ]
     },
     "execution_count": 18,
     "metadata": {},
     "output_type": "execute_result"
    }
   ],
   "source": [
    "# usar label encoder para transformar la variable 'Type 1' a tipo numérico\n",
    "type1_le = LabelEncoder()\n",
    "type1_le_labels = type1_le.fit_transform(df_reduced_normal['Type 1'])\n",
    "df_reduced_normal_bins['Type1_id'] = type1_le_labels\n",
    "# comprobar índices asociados a cada valor categórico de 'Type 1'\n",
    "type1_mappings = {index: label for index, label in enumerate(type1_le.classes_)}\n",
    "type1_mappings"
   ]
  },
  {
   "cell_type": "code",
   "execution_count": 19,
   "metadata": {},
   "outputs": [
    {
     "data": {
      "text/html": [
       "<div>\n",
       "<style scoped>\n",
       "    .dataframe tbody tr th:only-of-type {\n",
       "        vertical-align: middle;\n",
       "    }\n",
       "\n",
       "    .dataframe tbody tr th {\n",
       "        vertical-align: top;\n",
       "    }\n",
       "\n",
       "    .dataframe thead th {\n",
       "        text-align: right;\n",
       "    }\n",
       "</style>\n",
       "<table border=\"1\" class=\"dataframe\">\n",
       "  <thead>\n",
       "    <tr style=\"text-align: right;\">\n",
       "      <th></th>\n",
       "      <th>has_2nd_type</th>\n",
       "      <th>Attack</th>\n",
       "      <th>Defense</th>\n",
       "    </tr>\n",
       "  </thead>\n",
       "  <tbody>\n",
       "    <tr>\n",
       "      <td>0</td>\n",
       "      <td>Known</td>\n",
       "      <td>49</td>\n",
       "      <td>49</td>\n",
       "    </tr>\n",
       "    <tr>\n",
       "      <td>1</td>\n",
       "      <td>Known</td>\n",
       "      <td>62</td>\n",
       "      <td>63</td>\n",
       "    </tr>\n",
       "    <tr>\n",
       "      <td>2</td>\n",
       "      <td>Known</td>\n",
       "      <td>82</td>\n",
       "      <td>83</td>\n",
       "    </tr>\n",
       "    <tr>\n",
       "      <td>3</td>\n",
       "      <td>Known</td>\n",
       "      <td>100</td>\n",
       "      <td>123</td>\n",
       "    </tr>\n",
       "    <tr>\n",
       "      <td>4</td>\n",
       "      <td>Unknown</td>\n",
       "      <td>52</td>\n",
       "      <td>43</td>\n",
       "    </tr>\n",
       "  </tbody>\n",
       "</table>\n",
       "</div>"
      ],
      "text/plain": [
       "  has_2nd_type  Attack  Defense\n",
       "0        Known      49       49\n",
       "1        Known      62       63\n",
       "2        Known      82       83\n",
       "3        Known     100      123\n",
       "4      Unknown      52       43"
      ]
     },
     "execution_count": 19,
     "metadata": {},
     "output_type": "execute_result"
    }
   ],
   "source": [
    "# borrar la variable numérica 'Type 1' y 'Type 2' y ver tabla resultante\n",
    "df_reduced_normal_bins_encoded = df_reduced_normal[['has_2nd_type', 'Attack', 'Defense']]\n",
    "df_reduced_normal_bins_encoded.head()"
   ]
  },
  {
   "cell_type": "code",
   "execution_count": 20,
   "metadata": {},
   "outputs": [
    {
     "data": {
      "text/html": [
       "<div>\n",
       "<style scoped>\n",
       "    .dataframe tbody tr th:only-of-type {\n",
       "        vertical-align: middle;\n",
       "    }\n",
       "\n",
       "    .dataframe tbody tr th {\n",
       "        vertical-align: top;\n",
       "    }\n",
       "\n",
       "    .dataframe thead th {\n",
       "        text-align: right;\n",
       "    }\n",
       "</style>\n",
       "<table border=\"1\" class=\"dataframe\">\n",
       "  <thead>\n",
       "    <tr style=\"text-align: right;\">\n",
       "      <th></th>\n",
       "      <th>Unknown</th>\n",
       "    </tr>\n",
       "  </thead>\n",
       "  <tbody>\n",
       "    <tr>\n",
       "      <td>0</td>\n",
       "      <td>0</td>\n",
       "    </tr>\n",
       "    <tr>\n",
       "      <td>1</td>\n",
       "      <td>0</td>\n",
       "    </tr>\n",
       "    <tr>\n",
       "      <td>2</td>\n",
       "      <td>0</td>\n",
       "    </tr>\n",
       "    <tr>\n",
       "      <td>3</td>\n",
       "      <td>0</td>\n",
       "    </tr>\n",
       "    <tr>\n",
       "      <td>4</td>\n",
       "      <td>1</td>\n",
       "    </tr>\n",
       "  </tbody>\n",
       "</table>\n",
       "</div>"
      ],
      "text/plain": [
       "   Unknown\n",
       "0        0\n",
       "1        0\n",
       "2        0\n",
       "3        0\n",
       "4        1"
      ]
     },
     "execution_count": 20,
     "metadata": {},
     "output_type": "execute_result"
    }
   ],
   "source": [
    "# usar 'get_dummies' para obtener un valor numérico para la variable categórica 'has_2nd_type'\n",
    "df_reduced_normal_bins_encoded_trans = pd.get_dummies(df_reduced_normal_bins_encoded['has_2nd_type'], drop_first=True)\n",
    "df_reduced_normal_bins_encoded_trans.head()\n"
   ]
  }
 ],
 "metadata": {
  "kernelspec": {
   "display_name": "Python 3",
   "language": "python",
   "name": "python3"
  },
  "language_info": {
   "codemirror_mode": {
    "name": "ipython",
    "version": 3
   },
   "file_extension": ".py",
   "mimetype": "text/x-python",
   "name": "python",
   "nbconvert_exporter": "python",
   "pygments_lexer": "ipython3",
   "version": "3.7.4"
  }
 },
 "nbformat": 4,
 "nbformat_minor": 4
}
