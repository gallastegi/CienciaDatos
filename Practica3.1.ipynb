{
 "cells": [
  {
   "cell_type": "markdown",
   "metadata": {},
   "source": [
    "# Aprendizaje y evaluación de modelos\n",
    "\n",
    "##  Introducción\n",
    "\n",
    "El objetivo del ejercicio planteado consiste en comparar el rendimiento de 3 modelos de Machine Learning diferentes. Para ello, vamos a utilizar un set de datos llamado 'mtcars' sobre coches clásicos para ajustar y evaluar los 3 modelos:\n",
    "1. Modelo de regresión lineal sobre todas las variables\n",
    "1. Modelo de regresión lineal sobre las variables más representativas\n",
    "1. Otro modelo de regresión lineal a elegir: https://scikit-learn.org/stable/modules/linear_model.html\n",
    "\n",
    "Referencias:\n",
    "- https://gallery.cortanaintelligence.com/Notebook/Evaluating-Multiple-Models-6\n",
    "- https://gallery.cortanaintelligence.com/\n",
    "- https://notebooks.azure.com/library/eSJDgAFMXAY"
   ]
  },
  {
   "cell_type": "markdown",
   "metadata": {},
   "source": [
    "## Cargar datos\n",
    "Cargar datos y mostrar dimensionalidad"
   ]
  },
  {
   "cell_type": "code",
   "execution_count": 2,
   "metadata": {
    "scrolled": true
   },
   "outputs": [
    {
     "data": {
      "text/plain": [
       "(32, 11)"
      ]
     },
     "execution_count": 2,
     "metadata": {},
     "output_type": "execute_result"
    }
   ],
   "source": [
    "import warnings\n",
    "warnings.filterwarnings(\"ignore\")\n",
    "warnings.simplefilter('ignore')\n",
    "\n",
    "import pydataset\n",
    "from pydataset import data\n",
    "df = data('mtcars')\n",
    "df.shape"
   ]
  },
  {
   "cell_type": "markdown",
   "metadata": {},
   "source": [
    "Ver distribución de valores y estadística básica: media, std, max, min, percentiles..."
   ]
  },
  {
   "cell_type": "code",
   "execution_count": 3,
   "metadata": {},
   "outputs": [
    {
     "data": {
      "text/html": [
       "<div>\n",
       "<style scoped>\n",
       "    .dataframe tbody tr th:only-of-type {\n",
       "        vertical-align: middle;\n",
       "    }\n",
       "\n",
       "    .dataframe tbody tr th {\n",
       "        vertical-align: top;\n",
       "    }\n",
       "\n",
       "    .dataframe thead th {\n",
       "        text-align: right;\n",
       "    }\n",
       "</style>\n",
       "<table border=\"1\" class=\"dataframe\">\n",
       "  <thead>\n",
       "    <tr style=\"text-align: right;\">\n",
       "      <th></th>\n",
       "      <th>mpg</th>\n",
       "      <th>cyl</th>\n",
       "      <th>disp</th>\n",
       "      <th>hp</th>\n",
       "      <th>drat</th>\n",
       "      <th>wt</th>\n",
       "      <th>qsec</th>\n",
       "      <th>vs</th>\n",
       "      <th>am</th>\n",
       "      <th>gear</th>\n",
       "      <th>carb</th>\n",
       "    </tr>\n",
       "  </thead>\n",
       "  <tbody>\n",
       "    <tr>\n",
       "      <td>count</td>\n",
       "      <td>32.000000</td>\n",
       "      <td>32.000000</td>\n",
       "      <td>32.000000</td>\n",
       "      <td>32.000000</td>\n",
       "      <td>32.000000</td>\n",
       "      <td>32.000000</td>\n",
       "      <td>32.000000</td>\n",
       "      <td>32.000000</td>\n",
       "      <td>32.000000</td>\n",
       "      <td>32.000000</td>\n",
       "      <td>32.0000</td>\n",
       "    </tr>\n",
       "    <tr>\n",
       "      <td>mean</td>\n",
       "      <td>20.090625</td>\n",
       "      <td>6.187500</td>\n",
       "      <td>230.721875</td>\n",
       "      <td>146.687500</td>\n",
       "      <td>3.596563</td>\n",
       "      <td>3.217250</td>\n",
       "      <td>17.848750</td>\n",
       "      <td>0.437500</td>\n",
       "      <td>0.406250</td>\n",
       "      <td>3.687500</td>\n",
       "      <td>2.8125</td>\n",
       "    </tr>\n",
       "    <tr>\n",
       "      <td>std</td>\n",
       "      <td>6.026948</td>\n",
       "      <td>1.785922</td>\n",
       "      <td>123.938694</td>\n",
       "      <td>68.562868</td>\n",
       "      <td>0.534679</td>\n",
       "      <td>0.978457</td>\n",
       "      <td>1.786943</td>\n",
       "      <td>0.504016</td>\n",
       "      <td>0.498991</td>\n",
       "      <td>0.737804</td>\n",
       "      <td>1.6152</td>\n",
       "    </tr>\n",
       "    <tr>\n",
       "      <td>min</td>\n",
       "      <td>10.400000</td>\n",
       "      <td>4.000000</td>\n",
       "      <td>71.100000</td>\n",
       "      <td>52.000000</td>\n",
       "      <td>2.760000</td>\n",
       "      <td>1.513000</td>\n",
       "      <td>14.500000</td>\n",
       "      <td>0.000000</td>\n",
       "      <td>0.000000</td>\n",
       "      <td>3.000000</td>\n",
       "      <td>1.0000</td>\n",
       "    </tr>\n",
       "    <tr>\n",
       "      <td>25%</td>\n",
       "      <td>15.425000</td>\n",
       "      <td>4.000000</td>\n",
       "      <td>120.825000</td>\n",
       "      <td>96.500000</td>\n",
       "      <td>3.080000</td>\n",
       "      <td>2.581250</td>\n",
       "      <td>16.892500</td>\n",
       "      <td>0.000000</td>\n",
       "      <td>0.000000</td>\n",
       "      <td>3.000000</td>\n",
       "      <td>2.0000</td>\n",
       "    </tr>\n",
       "    <tr>\n",
       "      <td>50%</td>\n",
       "      <td>19.200000</td>\n",
       "      <td>6.000000</td>\n",
       "      <td>196.300000</td>\n",
       "      <td>123.000000</td>\n",
       "      <td>3.695000</td>\n",
       "      <td>3.325000</td>\n",
       "      <td>17.710000</td>\n",
       "      <td>0.000000</td>\n",
       "      <td>0.000000</td>\n",
       "      <td>4.000000</td>\n",
       "      <td>2.0000</td>\n",
       "    </tr>\n",
       "    <tr>\n",
       "      <td>75%</td>\n",
       "      <td>22.800000</td>\n",
       "      <td>8.000000</td>\n",
       "      <td>326.000000</td>\n",
       "      <td>180.000000</td>\n",
       "      <td>3.920000</td>\n",
       "      <td>3.610000</td>\n",
       "      <td>18.900000</td>\n",
       "      <td>1.000000</td>\n",
       "      <td>1.000000</td>\n",
       "      <td>4.000000</td>\n",
       "      <td>4.0000</td>\n",
       "    </tr>\n",
       "    <tr>\n",
       "      <td>max</td>\n",
       "      <td>33.900000</td>\n",
       "      <td>8.000000</td>\n",
       "      <td>472.000000</td>\n",
       "      <td>335.000000</td>\n",
       "      <td>4.930000</td>\n",
       "      <td>5.424000</td>\n",
       "      <td>22.900000</td>\n",
       "      <td>1.000000</td>\n",
       "      <td>1.000000</td>\n",
       "      <td>5.000000</td>\n",
       "      <td>8.0000</td>\n",
       "    </tr>\n",
       "  </tbody>\n",
       "</table>\n",
       "</div>"
      ],
      "text/plain": [
       "             mpg        cyl        disp          hp       drat         wt  \\\n",
       "count  32.000000  32.000000   32.000000   32.000000  32.000000  32.000000   \n",
       "mean   20.090625   6.187500  230.721875  146.687500   3.596563   3.217250   \n",
       "std     6.026948   1.785922  123.938694   68.562868   0.534679   0.978457   \n",
       "min    10.400000   4.000000   71.100000   52.000000   2.760000   1.513000   \n",
       "25%    15.425000   4.000000  120.825000   96.500000   3.080000   2.581250   \n",
       "50%    19.200000   6.000000  196.300000  123.000000   3.695000   3.325000   \n",
       "75%    22.800000   8.000000  326.000000  180.000000   3.920000   3.610000   \n",
       "max    33.900000   8.000000  472.000000  335.000000   4.930000   5.424000   \n",
       "\n",
       "            qsec         vs         am       gear     carb  \n",
       "count  32.000000  32.000000  32.000000  32.000000  32.0000  \n",
       "mean   17.848750   0.437500   0.406250   3.687500   2.8125  \n",
       "std     1.786943   0.504016   0.498991   0.737804   1.6152  \n",
       "min    14.500000   0.000000   0.000000   3.000000   1.0000  \n",
       "25%    16.892500   0.000000   0.000000   3.000000   2.0000  \n",
       "50%    17.710000   0.000000   0.000000   4.000000   2.0000  \n",
       "75%    18.900000   1.000000   1.000000   4.000000   4.0000  \n",
       "max    22.900000   1.000000   1.000000   5.000000   8.0000  "
      ]
     },
     "execution_count": 3,
     "metadata": {},
     "output_type": "execute_result"
    }
   ],
   "source": [
    "df.describe()"
   ]
  },
  {
   "cell_type": "markdown",
   "metadata": {},
   "source": [
    "Mostrar valores de las variables de los 10 primeros registros del dataset"
   ]
  },
  {
   "cell_type": "code",
   "execution_count": 4,
   "metadata": {},
   "outputs": [
    {
     "data": {
      "text/html": [
       "<div>\n",
       "<style scoped>\n",
       "    .dataframe tbody tr th:only-of-type {\n",
       "        vertical-align: middle;\n",
       "    }\n",
       "\n",
       "    .dataframe tbody tr th {\n",
       "        vertical-align: top;\n",
       "    }\n",
       "\n",
       "    .dataframe thead th {\n",
       "        text-align: right;\n",
       "    }\n",
       "</style>\n",
       "<table border=\"1\" class=\"dataframe\">\n",
       "  <thead>\n",
       "    <tr style=\"text-align: right;\">\n",
       "      <th></th>\n",
       "      <th>mpg</th>\n",
       "      <th>cyl</th>\n",
       "      <th>disp</th>\n",
       "      <th>hp</th>\n",
       "      <th>drat</th>\n",
       "      <th>wt</th>\n",
       "      <th>qsec</th>\n",
       "      <th>vs</th>\n",
       "      <th>am</th>\n",
       "      <th>gear</th>\n",
       "      <th>carb</th>\n",
       "    </tr>\n",
       "  </thead>\n",
       "  <tbody>\n",
       "    <tr>\n",
       "      <td>Mazda RX4</td>\n",
       "      <td>21.0</td>\n",
       "      <td>6</td>\n",
       "      <td>160.0</td>\n",
       "      <td>110</td>\n",
       "      <td>3.90</td>\n",
       "      <td>2.620</td>\n",
       "      <td>16.46</td>\n",
       "      <td>0</td>\n",
       "      <td>1</td>\n",
       "      <td>4</td>\n",
       "      <td>4</td>\n",
       "    </tr>\n",
       "    <tr>\n",
       "      <td>Mazda RX4 Wag</td>\n",
       "      <td>21.0</td>\n",
       "      <td>6</td>\n",
       "      <td>160.0</td>\n",
       "      <td>110</td>\n",
       "      <td>3.90</td>\n",
       "      <td>2.875</td>\n",
       "      <td>17.02</td>\n",
       "      <td>0</td>\n",
       "      <td>1</td>\n",
       "      <td>4</td>\n",
       "      <td>4</td>\n",
       "    </tr>\n",
       "    <tr>\n",
       "      <td>Datsun 710</td>\n",
       "      <td>22.8</td>\n",
       "      <td>4</td>\n",
       "      <td>108.0</td>\n",
       "      <td>93</td>\n",
       "      <td>3.85</td>\n",
       "      <td>2.320</td>\n",
       "      <td>18.61</td>\n",
       "      <td>1</td>\n",
       "      <td>1</td>\n",
       "      <td>4</td>\n",
       "      <td>1</td>\n",
       "    </tr>\n",
       "    <tr>\n",
       "      <td>Hornet 4 Drive</td>\n",
       "      <td>21.4</td>\n",
       "      <td>6</td>\n",
       "      <td>258.0</td>\n",
       "      <td>110</td>\n",
       "      <td>3.08</td>\n",
       "      <td>3.215</td>\n",
       "      <td>19.44</td>\n",
       "      <td>1</td>\n",
       "      <td>0</td>\n",
       "      <td>3</td>\n",
       "      <td>1</td>\n",
       "    </tr>\n",
       "    <tr>\n",
       "      <td>Hornet Sportabout</td>\n",
       "      <td>18.7</td>\n",
       "      <td>8</td>\n",
       "      <td>360.0</td>\n",
       "      <td>175</td>\n",
       "      <td>3.15</td>\n",
       "      <td>3.440</td>\n",
       "      <td>17.02</td>\n",
       "      <td>0</td>\n",
       "      <td>0</td>\n",
       "      <td>3</td>\n",
       "      <td>2</td>\n",
       "    </tr>\n",
       "  </tbody>\n",
       "</table>\n",
       "</div>"
      ],
      "text/plain": [
       "                    mpg  cyl   disp   hp  drat     wt   qsec  vs  am  gear  \\\n",
       "Mazda RX4          21.0    6  160.0  110  3.90  2.620  16.46   0   1     4   \n",
       "Mazda RX4 Wag      21.0    6  160.0  110  3.90  2.875  17.02   0   1     4   \n",
       "Datsun 710         22.8    4  108.0   93  3.85  2.320  18.61   1   1     4   \n",
       "Hornet 4 Drive     21.4    6  258.0  110  3.08  3.215  19.44   1   0     3   \n",
       "Hornet Sportabout  18.7    8  360.0  175  3.15  3.440  17.02   0   0     3   \n",
       "\n",
       "                   carb  \n",
       "Mazda RX4             4  \n",
       "Mazda RX4 Wag         4  \n",
       "Datsun 710            1  \n",
       "Hornet 4 Drive        1  \n",
       "Hornet Sportabout     2  "
      ]
     },
     "execution_count": 4,
     "metadata": {},
     "output_type": "execute_result"
    }
   ],
   "source": [
    "df.head()"
   ]
  },
  {
   "cell_type": "markdown",
   "metadata": {},
   "source": [
    "La descripción de las variables sería la siguiente:\n",
    "- mpg: Miles/(US) gallon\n",
    "- cyl: Number of cylinders\n",
    "- disp: Displacement (cu.in.)\n",
    "- hp: Gross horsepower\n",
    "- drat: Rear axle ratio\n",
    "- wt: Weight (1000 lbs)\n",
    "- qsec: 1/4 mile time\n",
    "- vs: Engine (0 = V-shaped, 1 = straight)\n",
    "- am: Transmission (0 = automatic, 1 = manual)\n",
    "- gear: Number of forward gears\n",
    "- carb: Number of carburetors\n",
    "\n",
    "Según el peso del coche, 'wt', y el tipo de cambio (manual/automático), 'am': ¿qué tipos de coches consumen más? Por lógica, deben sonsumir más los más pesados y con un tipo de cambio manual, pero necesitamos corroborar o justificar esa hipótesis a partir de los datos."
   ]
  },
  {
   "cell_type": "code",
   "execution_count": 6,
   "metadata": {},
   "outputs": [
    {
     "name": "stdout",
     "output_type": "stream",
     "text": [
      "La hipotesis planteada es valida\n"
     ]
    },
    {
     "data": {
      "image/png": "[encoded data removed]",
      "text/plain": [
       "<Figure size 432x288 with 1 Axes>"
      ]
     },
     "metadata": {
      "needs_background": "light"
     },
     "output_type": "display_data"
    }
   ],
   "source": [
    "import numpy as np\n",
    "import matplotlib.pyplot as plt\n",
    "\n",
    "\n",
    "plt.scatter( df['wt'],1/df['mpg'], c=df['am'])\n",
    "\n",
    "\n",
    "\n",
    "# RESPUESTA 1\n",
    "print('La hipotesis planteada es valida')"
   ]
  },
  {
   "cell_type": "markdown",
   "metadata": {},
   "source": [
    "Vamos a aprender modelos de Machine Learning capaces de predecir el consumo de gasolina, 'mpg', a partir de las otras variables. Para ello, lo primero que haremos será separar el dataset en training y test sets: \n",
    "- training set para entrenar el modelo\n",
    "- test set para evaluarlo"
   ]
  },
  {
   "cell_type": "code",
   "execution_count": 7,
   "metadata": {},
   "outputs": [
    {
     "data": {
      "text/plain": [
       "((21, 10), (11, 10), (21,), (11,))"
      ]
     },
     "execution_count": 7,
     "metadata": {},
     "output_type": "execute_result"
    }
   ],
   "source": [
    "from sklearn.model_selection import train_test_split\n",
    "\n",
    "# separar el set de características en variables predictoras, 'X', y variable objetivo, 'y'\n",
    "y = df['mpg'].values\n",
    "X = df.drop('mpg', 1).values\n",
    "feature_names = df.drop('mpg', 1).columns\n",
    "\n",
    "# RESPUESTA 2\n",
    "# reservar 33% del dataset original (1/3) para test\n",
    "X_train, X_test, y_train, y_test = train_test_split(X, y, test_size=1/3, random_state=123)\n",
    "X_train.shape,X_test.shape,y_train.shape,y_test.shape"
   ]
  },
  {
   "cell_type": "markdown",
   "metadata": {},
   "source": [
    "Se puede apreciar que el número de variables predictoras es similar al número de registros disponibles que vamos a utilizar para el test. Esto nos va producir modelos sobreentrenados (overfitting) que obtienen predicciones muy buenas en la fase de training pero un rendimiento pobre en cuando a los datos de test. "
   ]
  },
  {
   "cell_type": "markdown",
   "metadata": {},
   "source": [
    "## Ajuste de los modelos"
   ]
  },
  {
   "cell_type": "markdown",
   "metadata": {},
   "source": [
    "### Modelo lineal sobre todas las variables\n",
    "Para ajustar el modelo lineal al conjunto de training, en primera instancia usaremos todas las variables predictoras"
   ]
  },
  {
   "cell_type": "code",
   "execution_count": 8,
   "metadata": {},
   "outputs": [
    {
     "data": {
      "text/plain": [
       "LinearRegression(copy_X=True, fit_intercept=True, n_jobs=None, normalize=False)"
      ]
     },
     "execution_count": 8,
     "metadata": {},
     "output_type": "execute_result"
    }
   ],
   "source": [
    "from sklearn.linear_model import LinearRegression\n",
    "\n",
    "lm = LinearRegression()\n",
    "# RESPUESTA 3\n",
    "lm.fit(X_train, y_train)"
   ]
  },
  {
   "cell_type": "markdown",
   "metadata": {},
   "source": [
    "Una vez ajustado, mostramos el valor de precisión R² respecto de los valores reales de 'mpg' vs los estimados por el modelo. También mostramos los coeficientes de ajuste para las variables predictoras."
   ]
  },
  {
   "cell_type": "code",
   "execution_count": 9,
   "metadata": {},
   "outputs": [
    {
     "name": "stdout",
     "output_type": "stream",
     "text": [
      "El valor de R² para el training set es: 0.8768897450384063\n"
     ]
    },
    {
     "data": {
      "text/html": [
       "<div>\n",
       "<style scoped>\n",
       "    .dataframe tbody tr th:only-of-type {\n",
       "        vertical-align: middle;\n",
       "    }\n",
       "\n",
       "    .dataframe tbody tr th {\n",
       "        vertical-align: top;\n",
       "    }\n",
       "\n",
       "    .dataframe thead th {\n",
       "        text-align: right;\n",
       "    }\n",
       "</style>\n",
       "<table border=\"1\" class=\"dataframe\">\n",
       "  <thead>\n",
       "    <tr style=\"text-align: right;\">\n",
       "      <th></th>\n",
       "      <th>Feature</th>\n",
       "      <th>Coefficient</th>\n",
       "    </tr>\n",
       "  </thead>\n",
       "  <tbody>\n",
       "    <tr>\n",
       "      <td>0</td>\n",
       "      <td>intercept</td>\n",
       "      <td>-27.031706</td>\n",
       "    </tr>\n",
       "    <tr>\n",
       "      <td>1</td>\n",
       "      <td>cyl</td>\n",
       "      <td>0.708185</td>\n",
       "    </tr>\n",
       "    <tr>\n",
       "      <td>2</td>\n",
       "      <td>disp</td>\n",
       "      <td>0.023999</td>\n",
       "    </tr>\n",
       "    <tr>\n",
       "      <td>3</td>\n",
       "      <td>hp</td>\n",
       "      <td>-0.014622</td>\n",
       "    </tr>\n",
       "    <tr>\n",
       "      <td>4</td>\n",
       "      <td>drat</td>\n",
       "      <td>1.694177</td>\n",
       "    </tr>\n",
       "    <tr>\n",
       "      <td>5</td>\n",
       "      <td>wt</td>\n",
       "      <td>-5.196545</td>\n",
       "    </tr>\n",
       "    <tr>\n",
       "      <td>6</td>\n",
       "      <td>qsec</td>\n",
       "      <td>2.646786</td>\n",
       "    </tr>\n",
       "    <tr>\n",
       "      <td>7</td>\n",
       "      <td>vs</td>\n",
       "      <td>0.364851</td>\n",
       "    </tr>\n",
       "    <tr>\n",
       "      <td>8</td>\n",
       "      <td>am</td>\n",
       "      <td>5.332754</td>\n",
       "    </tr>\n",
       "    <tr>\n",
       "      <td>9</td>\n",
       "      <td>gear</td>\n",
       "      <td>-0.357118</td>\n",
       "    </tr>\n",
       "    <tr>\n",
       "      <td>10</td>\n",
       "      <td>carb</td>\n",
       "      <td>0.535022</td>\n",
       "    </tr>\n",
       "  </tbody>\n",
       "</table>\n",
       "</div>"
      ],
      "text/plain": [
       "      Feature  Coefficient\n",
       "0   intercept   -27.031706\n",
       "1         cyl     0.708185\n",
       "2        disp     0.023999\n",
       "3          hp    -0.014622\n",
       "4        drat     1.694177\n",
       "5          wt    -5.196545\n",
       "6        qsec     2.646786\n",
       "7          vs     0.364851\n",
       "8          am     5.332754\n",
       "9        gear    -0.357118\n",
       "10       carb     0.535022"
      ]
     },
     "execution_count": 9,
     "metadata": {},
     "output_type": "execute_result"
    }
   ],
   "source": [
    "import pandas as pd\n",
    "from sklearn.metrics import r2_score, mean_absolute_error, mean_squared_error\n",
    "\n",
    "#realizar la predicción\n",
    "y_lm_predic_train = lm.predict(X_train)\n",
    "\n",
    "# RESPUESTA 4\n",
    "# mostrar R^2 respecto del training set\n",
    "r2_train = r2_score(y_train,y_lm_predic_train)\n",
    "print('El valor de R² para el training set es: ' + str(r2_train))\n",
    "\n",
    "# mostrar coeficientes\n",
    "param_df = pd.DataFrame({\"Coefficient\": [lm.intercept_] + list(lm.coef_),\n",
    "                         \"Feature\": ['intercept'] + list(feature_names)})\n",
    "param_df[['Feature', 'Coefficient']]"
   ]
  },
  {
   "cell_type": "markdown",
   "metadata": {},
   "source": [
    "En base a los resultados obtenidos: ¿qué varianza estaríamos explicando con nuestro modelo respecto de los valores de la variable objetivo, 'mpg'?"
   ]
  },
  {
   "cell_type": "code",
   "execution_count": 10,
   "metadata": {},
   "outputs": [
    {
     "data": {
      "text/plain": [
       "87.68897450384058"
      ]
     },
     "execution_count": 10,
     "metadata": {},
     "output_type": "execute_result"
    }
   ],
   "source": [
    "# RESPUESTA 5\n",
    "(np.var(y_lm_predic_train)/np.var(y_train))*100\n"
   ]
  },
  {
   "cell_type": "markdown",
   "metadata": {},
   "source": [
    "Vamos ahora con el test set: ¿qué resultados obtenemos en relación al R²?"
   ]
  },
  {
   "cell_type": "code",
   "execution_count": 11,
   "metadata": {},
   "outputs": [
    {
     "name": "stdout",
     "output_type": "stream",
     "text": [
      "El valor de R² para el test set es: 0.6431806922395045\n",
      "                           metrics\n",
      "R-squared                 0.643181\n",
      "Mean Absolute Error       2.902085\n",
      "Root Mean Squared Error  11.262751\n"
     ]
    }
   ],
   "source": [
    "#realizar la predicción\n",
    "y_lm_predic_test = lm.predict(X_test)\n",
    "\n",
    "# mostrar R^2 respecto del test set \n",
    "r2_test = r2_score(y_test,y_lm_predic_test)\n",
    "print('El valor de R² para el test set es: ' + str(r2_test))\n",
    "\n",
    "# RESPUESTA 6\n",
    "# mostrar también otras métricas de evaluación del modelo: \n",
    "# - mean absolute error (mae)\n",
    "# - root mean squared error (rmse)\n",
    "# - relative absolute error (rae)\n",
    "# - relative squared error (rse)\n",
    "\n",
    "def metrics(y_real,y_predic):\n",
    "    r2 = r2_score(y_real,y_predic)\n",
    "    mae =  mean_absolute_error(y_real,y_predic)\n",
    "    rmse = mean_squared_error(y_real,y_predic)\n",
    "    summary_df = pd.DataFrame(index = ['R-squared', 'Mean Absolute Error', 'Root Mean Squared Error'])       \n",
    "    summary_df['metrics'] = [r2, mae, rmse]\n",
    "    return(summary_df)\n",
    "\n",
    "summary_df = metrics(y_test,y_lm_predic_test)\n",
    "print(summary_df)"
   ]
  },
  {
   "cell_type": "markdown",
   "metadata": {},
   "source": [
    "En base al valor obtenido, comparándolo respecto del R² que vimos en la fase de training: ¿qué problema nos encontramos?\n",
    "\n",
    "### El nuevo valor a disminuido ya que estos datos son desconocidos para el modelo"
   ]
  },
  {
   "cell_type": "markdown",
   "metadata": {},
   "source": [
    "### Modelo lineal sobre las variables más representativas"
   ]
  },
  {
   "cell_type": "markdown",
   "metadata": {},
   "source": [
    "Una posible manera de reducir el overfitting consiste en eliminar ciertas variables predictoras del dataset. Obviamente, el objetivo sería no utilizar las variables que no aportan ningún tipo de información al problema que queremos resolver. Para ello, vamos a aplicar recursive feature elimination (RFE). RFE ajusta varios modelos y compara su rendimiento, requiriendo por tanto los datasets de training y test. Reservaremos el dataset de test utilizado previamente para comparar modelos de manera equitativa. Para la evaluación del RFE necesitaremos reservar ciertos datos de training (X_train, y_train) para cada ronda de ajuste. Aplicaremos cross-validation con 'scikit-learn': https://scikit-learn.org/stable/modules/generated/sklearn.feature_selection.RFECV.html"
   ]
  },
  {
   "cell_type": "markdown",
   "metadata": {},
   "source": [
    "También aplicaremos un escalado de las variables, para evitar que la magnitud nos estropee el modelo "
   ]
  },
  {
   "cell_type": "code",
   "execution_count": 12,
   "metadata": {},
   "outputs": [
    {
     "name": "stdout",
     "output_type": "stream",
     "text": [
      "Optimal number of features: 3\n",
      "Features selected: wt, qsec, am\n",
      "Suggested order of feature removal: vs, gear, drat, carb, hp, cyl, disp, wt, qsec, am\n"
     ]
    }
   ],
   "source": [
    "%matplotlib inline\n",
    "\n",
    "import matplotlib.pyplot as plt\n",
    "from sklearn.preprocessing import StandardScaler\n",
    "from sklearn.feature_selection import RFECV\n",
    "import seaborn as sns\n",
    "\n",
    "# RESPUESTA 7\n",
    "# escalamos cada variable a media 0 y varianza 1: x' = (x - media) / std\n",
    "scaler = StandardScaler()\n",
    "X_scaled = scaler.fit_transform(X_train)\n",
    "\n",
    "# RESPUESTA 8\n",
    "# eliminación recursiva de variables con CV=10, usando R² como métrica para evaluar el modelo\n",
    "lm = LinearRegression()  # modelo lineal\n",
    "rfe = RFECV(lm, cv=10)\n",
    "rfe.fit(X_scaled, y_train)\n",
    "\n",
    "# mostrar número óptimo de variables\n",
    "print('Optimal number of features: {}'.format(rfe.n_features_))\n",
    "\n",
    "# variables seleccionadas\n",
    "print('Features selected: {}'.format(', '.join(np.array(feature_names)[rfe.support_].tolist())))\n",
    "\n",
    "# obtener el orden de importancia\n",
    "ranked_features, _ = zip(*sorted(zip(feature_names, rfe.ranking_.tolist()),\n",
    "                                 key=lambda x: x[1],\n",
    "                                 reverse=True))\n",
    "print('Suggested order of feature removal: {}'.format(', '.join(ranked_features)))"
   ]
  },
  {
   "cell_type": "code",
   "execution_count": 13,
   "metadata": {},
   "outputs": [
    {
     "data": {
      "image/png": "[encoded data removed]",
      "text/plain": [
       "<Figure size 576x288 with 1 Axes>"
      ]
     },
     "metadata": {},
     "output_type": "display_data"
    }
   ],
   "source": [
    "# plotear número de variables vs valores de R²\n",
    "sns.set_style(\"darkgrid\")\n",
    "plt.figure(figsize=(8, 4))\n",
    "plt.xlabel(\"Number of features selected\")\n",
    "plt.ylabel(\"Score\")\n",
    "plt.plot(range(1, len(rfe.grid_scores_) + 1), rfe.grid_scores_)\n",
    "plt.show()"
   ]
  },
  {
   "cell_type": "markdown",
   "metadata": {},
   "source": [
    "Los resultados deberían mostrar cómo el modelo, testeado con la estrategia CV, mejora con un número reducido pero relevante de variables. Como cabía esperar según lo visto anteriormente, el peso (wt) y el tipo de transmisión (am) estarían entre las variables a eliminar en última instancia ya que aportan cierta información al predecir nuestra variable objetivo (mpg)."
   ]
  },
  {
   "cell_type": "markdown",
   "metadata": {},
   "source": [
    "Ya podemos ajustar el modelo lineal usando los datos de test que hemos utilizado en el caso anterior y así comparar de manera equitativa ambos modelos. Usaremos las mismas métricas que hemos visto antes: R², mae, rmse, rae y rse"
   ]
  },
  {
   "cell_type": "code",
   "execution_count": 14,
   "metadata": {},
   "outputs": [
    {
     "data": {
      "text/html": [
       "<div>\n",
       "<style scoped>\n",
       "    .dataframe tbody tr th:only-of-type {\n",
       "        vertical-align: middle;\n",
       "    }\n",
       "\n",
       "    .dataframe tbody tr th {\n",
       "        vertical-align: top;\n",
       "    }\n",
       "\n",
       "    .dataframe thead th {\n",
       "        text-align: right;\n",
       "    }\n",
       "</style>\n",
       "<table border=\"1\" class=\"dataframe\">\n",
       "  <thead>\n",
       "    <tr style=\"text-align: right;\">\n",
       "      <th></th>\n",
       "      <th>metrics</th>\n",
       "    </tr>\n",
       "  </thead>\n",
       "  <tbody>\n",
       "    <tr>\n",
       "      <td>R-squared</td>\n",
       "      <td>0.733134</td>\n",
       "    </tr>\n",
       "    <tr>\n",
       "      <td>Mean Absolute Error</td>\n",
       "      <td>2.479904</td>\n",
       "    </tr>\n",
       "    <tr>\n",
       "      <td>Root Mean Squared Error</td>\n",
       "      <td>8.423435</td>\n",
       "    </tr>\n",
       "  </tbody>\n",
       "</table>\n",
       "</div>"
      ],
      "text/plain": [
       "                          metrics\n",
       "R-squared                0.733134\n",
       "Mean Absolute Error      2.479904\n",
       "Root Mean Squared Error  8.423435"
      ]
     },
     "execution_count": 14,
     "metadata": {},
     "output_type": "execute_result"
    }
   ],
   "source": [
    "X_train_subset = X_train[:, rfe.support_]\n",
    "lm2 = LinearRegression()\n",
    "lm2.fit(X_train_subset, y_train)\n",
    "\n",
    "X_test_part = X_test[:, rfe.support_]\n",
    "predicted = lm2.predict(X_test_part)\n",
    "\n",
    "metrics(y_test, predicted)"
   ]
  },
  {
   "cell_type": "markdown",
   "metadata": {},
   "source": [
    "¿Qué modelo obtendría mejores resultados y respecto de qué métricas? Tener en cuenta también el hecho de utilizar más o menos variables en términos de procesamiento, almacenaje, etc."
   ]
  },
  {
   "cell_type": "markdown",
   "metadata": {},
   "source": [
    "### Modelo a elegir"
   ]
  },
  {
   "cell_type": "markdown",
   "metadata": {},
   "source": [
    "Seleccionar otro modelo de regresión lineal de scikit-learn y realizar el mismo análisis:\n",
    "- https://scikit-learn.org/stable/modules/linear_model.html  "
   ]
  },
  {
   "cell_type": "markdown",
   "metadata": {},
   "source": [
    "Aplicar nuestro modelo a todos los datos. Ajustar el modelo al dataset de entrenamiento y generar resultados para el conjunto de test"
   ]
  },
  {
   "cell_type": "code",
   "execution_count": 15,
   "metadata": {},
   "outputs": [
    {
     "data": {
      "text/html": [
       "<div>\n",
       "<style scoped>\n",
       "    .dataframe tbody tr th:only-of-type {\n",
       "        vertical-align: middle;\n",
       "    }\n",
       "\n",
       "    .dataframe tbody tr th {\n",
       "        vertical-align: top;\n",
       "    }\n",
       "\n",
       "    .dataframe thead th {\n",
       "        text-align: right;\n",
       "    }\n",
       "</style>\n",
       "<table border=\"1\" class=\"dataframe\">\n",
       "  <thead>\n",
       "    <tr style=\"text-align: right;\">\n",
       "      <th></th>\n",
       "      <th>metrics</th>\n",
       "    </tr>\n",
       "  </thead>\n",
       "  <tbody>\n",
       "    <tr>\n",
       "      <td>R-squared</td>\n",
       "      <td>0.855751</td>\n",
       "    </tr>\n",
       "    <tr>\n",
       "      <td>Mean Absolute Error</td>\n",
       "      <td>1.784300</td>\n",
       "    </tr>\n",
       "    <tr>\n",
       "      <td>Root Mean Squared Error</td>\n",
       "      <td>4.553128</td>\n",
       "    </tr>\n",
       "  </tbody>\n",
       "</table>\n",
       "</div>"
      ],
      "text/plain": [
       "                          metrics\n",
       "R-squared                0.855751\n",
       "Mean Absolute Error      1.784300\n",
       "Root Mean Squared Error  4.553128"
      ]
     },
     "execution_count": 15,
     "metadata": {},
     "output_type": "execute_result"
    }
   ],
   "source": [
    "import sklearn.linear_model as linear_model\n",
    "\n",
    "my_model = linear_model.LassoLars(alpha=.2)\n",
    "my_model.fit(X_train, y_train)\n",
    "\n",
    "predicted = my_model.predict(X_test)\n",
    "\n",
    "metrics(y_test, predicted)"
   ]
  },
  {
   "cell_type": "markdown",
   "metadata": {},
   "source": [
    "Comparar resultados entre sí, incluyendo los 3 modelos: ¿cuál obtiene mejores resultados? El objetivo sería que nuestro modelo sea capaz de superar los modelos de regresión lineal vistos\n",
    "\n",
    "\n",
    "### El mejor modelo es LassoLars"
   ]
  },
  {
   "cell_type": "markdown",
   "metadata": {},
   "source": [
    "Seleccionar el mejor modelo, ajustarlo a todos los valores de las variables utilizadas reservando el último registro (no lo usamos para el ajuste). Guardar el modelo así entrenado disco"
   ]
  },
  {
   "cell_type": "code",
   "execution_count": 16,
   "metadata": {},
   "outputs": [
    {
     "name": "stderr",
     "output_type": "stream",
     "text": [
      "C:\\Users\\gallastegi\\AppData\\Local\\Continuum\\anaconda3\\lib\\site-packages\\sklearn\\externals\\joblib\\__init__.py:15: DeprecationWarning: sklearn.externals.joblib is deprecated in 0.21 and will be removed in 0.23. Please import this functionality directly from joblib, which can be installed with: pip install joblib. If this warning is raised when loading pickled models, you may need to re-serialize those models with scikit-learn 0.21+.\n",
      "  warnings.warn(msg, category=DeprecationWarning)\n"
     ]
    },
    {
     "data": {
      "text/plain": [
       "mpg      21.40\n",
       "cyl       4.00\n",
       "disp    121.00\n",
       "hp      109.00\n",
       "drat      4.11\n",
       "wt        2.78\n",
       "qsec     18.60\n",
       "vs        1.00\n",
       "am        1.00\n",
       "gear      4.00\n",
       "carb      2.00\n",
       "Name: Volvo 142E, dtype: float64"
      ]
     },
     "execution_count": 16,
     "metadata": {},
     "output_type": "execute_result"
    }
   ],
   "source": [
    "from sklearn.externals import joblib\n",
    "# RESPUESTA 9\n",
    "reg_last = df.iloc[-1]\n",
    "joblib.dump(my_model.fit(df.drop('mpg',axis=1).iloc[:-1],df['mpg'].iloc[:-1]), 'EvaluatingMultipleModels.pkl')\n",
    "reg_last"
   ]
  },
  {
   "cell_type": "markdown",
   "metadata": {},
   "source": [
    "Cargar el modelo generado y clasificar el registro que hemos reservado en el paso previo, comparándolo con el valor real"
   ]
  },
  {
   "cell_type": "code",
   "execution_count": 17,
   "metadata": {},
   "outputs": [
    {
     "name": "stdout",
     "output_type": "stream",
     "text": [
      "LassoLars(alpha=0.2, copy_X=True, eps=2.220446049250313e-16, fit_intercept=True,\n",
      "          fit_path=True, max_iter=500, normalize=True, positive=False,\n",
      "          precompute='auto', verbose=False)\n",
      "[23.82887552]\n",
      "21.4\n"
     ]
    }
   ],
   "source": [
    "# RESPUESTA 10\n",
    "my_loaded_model = joblib.load('EvaluatingMultipleModels.pkl')\n",
    "print(my_loaded_model)\n",
    "print(my_loaded_model.predict(reg_last.drop('mpg').values.reshape(1,-1)))\n",
    "print(reg_last['mpg'])"
   ]
  },
  {
   "cell_type": "markdown",
   "metadata": {},
   "source": [
    "Hecho! Ya tenemos nuestro modelo sencillo para futuras predicciones"
   ]
  },
  {
   "cell_type": "markdown",
   "metadata": {},
   "source": [
    "## Conclusión"
   ]
  },
  {
   "cell_type": "markdown",
   "metadata": {},
   "source": [
    "Con lo visto en clase y en este ejercicio, ya tenemos criterio para entrenar y generar un modelo sencillo en base a un conjunto de datos. En concreto:\n",
    "- Hemos diseñado el problema a resolver, separando el set de datos en training y test para evitar overfitting\n",
    "- Hemos entrenado y validado modelos, comparándolos entre sí\n",
    "- Hemos probado a eliminar variables irrelevantes para el problema y ver cómo afecta a los modelos\n",
    "- Hemos generado el mejor modelo a disco y lo hemos cargado para predecir un 'nuevo' registro\n",
    "\n",
    "En la siguiente sesión, empezaremos a ver diferentes modelos según el tipo de aprendizaje a aplicar. Para empezar, modelos supervisados..."
   ]
  },
  {
   "cell_type": "code",
   "execution_count": null,
   "metadata": {},
   "outputs": [],
   "source": []
  }
 ],
 "metadata": {
  "kernelspec": {
   "display_name": "Python 3",
   "language": "python",
   "name": "python3"
  },
  "language_info": {
   "codemirror_mode": {
    "name": "ipython",
    "version": 3
   },
   "file_extension": ".py",
   "mimetype": "text/x-python",
   "name": "python",
   "nbconvert_exporter": "python",
   "pygments_lexer": "ipython3",
   "version": "3.7.4"
  }
 },
 "nbformat": 4,
 "nbformat_minor": 4
}
